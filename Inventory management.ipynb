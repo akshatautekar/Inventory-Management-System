{
 "cells": [
  {
   "cell_type": "markdown",
   "id": "05036a96",
   "metadata": {},
   "source": [
    "### Opeartions included in Inevntory management:\n",
    "#### 1. Adding new product.\n",
    "#### 2. Checking avalibility of product\n",
    "#### 3. Adding Quantity to existing product\n",
    "#### 4. Updating price of a product"
   ]
  },
  {
   "cell_type": "markdown",
   "id": "e835f856",
   "metadata": {},
   "source": [
    "#### Reading Data from the Json file"
   ]
  },
  {
   "cell_type": "code",
   "execution_count": 4,
   "id": "ddd59b29",
   "metadata": {},
   "outputs": [],
   "source": [
    "import json"
   ]
  },
  {
   "cell_type": "code",
   "execution_count": 5,
   "id": "bcef5ff2",
   "metadata": {},
   "outputs": [],
   "source": [
    "fd = open(\"record.json\",'r')\n",
    "r = fd.read()\n",
    "fd.close()"
   ]
  },
  {
   "cell_type": "code",
   "execution_count": 6,
   "id": "fae585d1",
   "metadata": {},
   "outputs": [],
   "source": [
    "record = json.loads(r)"
   ]
  },
  {
   "cell_type": "code",
   "execution_count": 25,
   "id": "05c6df2e",
   "metadata": {
    "scrolled": false
   },
   "outputs": [
    {
     "data": {
      "text/plain": [
       "{'1001': {'name': 'Choco Cake', 'pr': 100, 'qn': 42},\n",
       " '1002': {'name': 'Milk Cake', 'pr': 800, 'qn': 100},\n",
       " '1003': {'name': 'Drink', 'pr': 85, 'qn': 100},\n",
       " '1004': {'name': 'Candy', 'pr': 5, 'qn': 1000},\n",
       " '1005': {'name': 'Pen', 'pr': 20, 'qn': 91},\n",
       " '1006': {'name': 'Phone', 'pr': 50000, 'qn': 10},\n",
       " '1007': {'name': 'Mic', 'pr': 1500, 'qn': 37},\n",
       " '1008': {'name': 'Case', 'pr': 599, 'qn': 15},\n",
       " '1009': {'name': 'Keyboard', 'pr': 1999, 'qn': 17},\n",
       " '1010': {'name': 'Cupcake', 'pr': 30, 'qn': 45},\n",
       " '1011': {'name': 'Fruit Tart', 'pr': 60, 'qn': 48},\n",
       " '1012': {'name': 'Milkibar', 'pr': 10, 'qn': 146},\n",
       " '1013': {'name': 'Dairy Milk', 'pr': 15, 'qn': 100},\n",
       " '1014': {'name': 'Kit kat', 'pr': 20, 'qn': 100},\n",
       " '1015': {'name': 'Plum Cake', 'pr': 100, 'qn': 80},\n",
       " '1016': {'name': 'Macroon', 'pr': 120, 'qn': 95},\n",
       " '1017': {'name': 'Sprite', 'pr': 30, 'qn': 50},\n",
       " '1018': {'name': 'Maggie', 'pr': 20, 'qn': 150},\n",
       " '1019': {'name': 'Aloo Bujia', 'pr': 50, 'qn': 95},\n",
       " '1020': {'name': 'Cream n Onion', 'pr': 30, 'qn': 50},\n",
       " '1021': {'name': 'Slice', 'pr': 50, 'qn': 41},\n",
       " '1022': {'name': 'Lottie Choco Pie', 'pr': 30, 'qn': 100},\n",
       " '1023': {'name': 'Pasta', 'pr': 40, 'qn': 50},\n",
       " '1024': {'name': 'Cookies', 'pr': 20, 'qn': 100},\n",
       " '1025': {'name': 'Doritos', 'pr': 100, 'qn': 80},\n",
       " '1026': {'name': 'Mint Choco', 'pr': 70, 'qn': 50},\n",
       " '1027': {'name': 'Noodles', 'pr': 50, 'qn': 100},\n",
       " '1028': {'name': 'Cola', 'pr': 40, 'qn': 100},\n",
       " '1029': {'name': 'Kinderjoy', 'pr': 30, 'qn': 100},\n",
       " '1030': {'name': 'Maccains', 'pr': 90, 'qn': 97}}"
      ]
     },
     "execution_count": 25,
     "metadata": {},
     "output_type": "execute_result"
    }
   ],
   "source": [
    "record"
   ]
  },
  {
   "cell_type": "code",
   "execution_count": 5,
   "id": "a64db3ee",
   "metadata": {},
   "outputs": [
    {
     "data": {
      "text/plain": [
       "dict_keys(['1001', '1002', '1003', '1004', '1005', '1006', '1007', '1008', '1009', '1010', '1011', '1012', '1013', '1014', '1015', '1016', '1017', '1018', '1019', '1020', '1021', '1022', '1023', '1024', '1025', '1026', '1027', '1028', '1029', '1030'])"
      ]
     },
     "execution_count": 5,
     "metadata": {},
     "output_type": "execute_result"
    }
   ],
   "source": [
    "record.keys()"
   ]
  },
  {
   "cell_type": "markdown",
   "id": "69fef2a3",
   "metadata": {},
   "source": [
    "#### Adding new Product in the Inventory"
   ]
  },
  {
   "cell_type": "code",
   "execution_count": 36,
   "id": "38640b98",
   "metadata": {
    "scrolled": true
   },
   "outputs": [
    {
     "name": "stdout",
     "output_type": "stream",
     "text": [
      "Enter the Product ID :1030\n",
      "Enter Name of product :Maccains\n",
      "Enter the price of product  :90\n",
      "Enter the quantity :100\n"
     ]
    }
   ],
   "source": [
    "prod_id = str(input(\"Enter the Product ID :\"))\n",
    "name = str(input(\"Enter Name of product :\"))\n",
    "pr = int(input(\"Enter the price of product  :\"))\n",
    "qn = int(input(\"Enter the quantity :\"))\n",
    "\n",
    "record[prod_id] = {'name':name, 'pr':pr, 'qn':qn}\n",
    "\n",
    "js = json.dumps(record)\n",
    "\n",
    "fd = open(\"record.json\",'w')\n",
    "fd.write(js)\n",
    "fd.close()"
   ]
  },
  {
   "cell_type": "markdown",
   "id": "634bfec3",
   "metadata": {},
   "source": [
    "#### Checking the avalability of the products"
   ]
  },
  {
   "cell_type": "code",
   "execution_count": 23,
   "id": "d5905c32",
   "metadata": {},
   "outputs": [
    {
     "name": "stdout",
     "output_type": "stream",
     "text": [
      "Enter the Product ID :1022\n",
      "Product with ID 1022 is available.\n",
      "Remainig Quantity : 100\n"
     ]
    }
   ],
   "source": [
    "product_id = str(input(\"Enter the Product ID :\"))\n",
    "\n",
    "if product_id in record.keys():\n",
    "    if record[product_id]['qn'] > 0:\n",
    "        print(f'Product with ID {product_id} is available.')\n",
    "        print('Remainig Quantity :',record[product_id]['qn'])\n",
    "    else:\n",
    "        print(f'Product with ID {product_id} is out of stock.')\n",
    "else:\n",
    "    print(\"No such product present in inventory.\")"
   ]
  },
  {
   "cell_type": "markdown",
   "id": "0c3fd5bc",
   "metadata": {},
   "source": [
    "#### Adding some quantity of products to an existing Product ID"
   ]
  },
  {
   "cell_type": "code",
   "execution_count": 14,
   "id": "c5963e66",
   "metadata": {},
   "outputs": [
    {
     "name": "stdout",
     "output_type": "stream",
     "text": [
      "Enter the Product ID :1008\n",
      "Enter the quantity to be added :10\n"
     ]
    }
   ],
   "source": [
    "prod_id = str(input(\"Enter the Product ID :\"))\n",
    "\n",
    "if prod_id in record.keys():\n",
    "    qn = int(input(\"Enter the quantity to be added :\"))\n",
    "    record[prod_id]['qn'] += qn\n",
    "\n",
    "else:\n",
    "    print(\"No such Product present.\")\n",
    "\n",
    "js = json.dumps(record)\n",
    "\n",
    "fd = open(\"record.json\",'w')\n",
    "fd.write(js)\n",
    "fd.close()"
   ]
  },
  {
   "cell_type": "markdown",
   "id": "b87e01dc",
   "metadata": {},
   "source": [
    "#### Updating/Editing price of a product."
   ]
  },
  {
   "cell_type": "code",
   "execution_count": 24,
   "id": "04161807",
   "metadata": {},
   "outputs": [
    {
     "name": "stdout",
     "output_type": "stream",
     "text": [
      "Enter the product ID :1022\n",
      "Enter the new price :30\n",
      "Price update sucessfully.\n"
     ]
    }
   ],
   "source": [
    "pr_id = str(input(\"Enter the product ID :\"))\n",
    "\n",
    "if pr_id in record.keys():\n",
    "    new_price = int(input(\"Enter the new price :\"))\n",
    "    record[pr_id]['pr'] = new_price\n",
    "    print(\"Price update sucessfully.\")\n",
    "else:\n",
    "    print(\"No such product present.\")"
   ]
  },
  {
   "cell_type": "code",
   "execution_count": null,
   "id": "220c861d",
   "metadata": {},
   "outputs": [],
   "source": []
  },
  {
   "cell_type": "code",
   "execution_count": null,
   "id": "3a8932b9",
   "metadata": {},
   "outputs": [],
   "source": []
  }
 ],
 "metadata": {
  "kernelspec": {
   "display_name": "Python 3 (ipykernel)",
   "language": "python",
   "name": "python3"
  },
  "language_info": {
   "codemirror_mode": {
    "name": "ipython",
    "version": 3
   },
   "file_extension": ".py",
   "mimetype": "text/x-python",
   "name": "python",
   "nbconvert_exporter": "python",
   "pygments_lexer": "ipython3",
   "version": "3.9.6"
  }
 },
 "nbformat": 4,
 "nbformat_minor": 5
}
