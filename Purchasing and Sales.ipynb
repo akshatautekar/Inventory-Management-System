{
 "cells": [
  {
   "cell_type": "markdown",
   "id": "c7d1ff04",
   "metadata": {},
   "source": [
    "### Reading data from record json file."
   ]
  },
  {
   "cell_type": "code",
   "execution_count": 7,
   "id": "160a873d",
   "metadata": {},
   "outputs": [],
   "source": [
    "import json"
   ]
  },
  {
   "cell_type": "code",
   "execution_count": 8,
   "id": "1eb4b149",
   "metadata": {},
   "outputs": [],
   "source": [
    "fd = open(\"record.json\",'r')\n",
    "r = fd.read()\n",
    "fd.close()"
   ]
  },
  {
   "cell_type": "code",
   "execution_count": 9,
   "id": "bdd3b9fc",
   "metadata": {},
   "outputs": [],
   "source": [
    "record = json.loads(r)"
   ]
  },
  {
   "cell_type": "markdown",
   "id": "d1cfac61",
   "metadata": {},
   "source": [
    "#### User purchasing an Item and Bill generation"
   ]
  },
  {
   "cell_type": "code",
   "execution_count": 15,
   "id": "3a4b8204",
   "metadata": {},
   "outputs": [
    {
     "name": "stdout",
     "output_type": "stream",
     "text": [
      "Enter the Product ID :1016\n",
      "Enter the quantity required :5\n",
      "**************************\n",
      "Product Name : Macroon\n",
      "Price : 120\n",
      "Quantity : 100\n",
      "==========================\n",
      "Billing Amount : 600\n",
      "**************************\n"
     ]
    }
   ],
   "source": [
    "ui_prod = str(input(\"Enter the Product ID :\"))\n",
    "ui_quant = str(input(\"Enter the quantity required :\"))\n",
    "\n",
    "if ui_prod in record.keys():\n",
    "    if record[ui_prod]['qn'] == 0:\n",
    "        print(\"Sorry, Out of Stock.\")\n",
    "    else:\n",
    "        print(\"**************************\")\n",
    "        print(\"Product Name :\",record[ui_prod]['name'])\n",
    "        print(\"Price :\",record[ui_prod]['pr'])\n",
    "        print(\"Quantity :\",record[ui_prod]['qn'])\n",
    "        print(\"==========================\")\n",
    "        amt = record[ui_prod]['pr'] * int(ui_quant)\n",
    "        print(\"Billing Amount :\",amt)\n",
    "        print(\"**************************\")\n",
    "    record[ui_prod]['qn'] -= int(ui_quant)\n",
    "\n",
    "else:\n",
    "    print(\"No such product present.\")\n",
    "\n",
    "\n",
    "\n",
    "js = json.dumps(record)\n",
    "\n",
    "fd = open(\"record.json\",'w')\n",
    "fd.write(js)\n",
    "fd.close()"
   ]
  },
  {
   "cell_type": "markdown",
   "id": "29ec59bc",
   "metadata": {},
   "source": [
    "#### Creating a Json file for sales"
   ]
  },
  {
   "cell_type": "code",
   "execution_count": null,
   "id": "a986144e",
   "metadata": {},
   "outputs": [],
   "source": [
    "sales = {ui_prod : {'Product Name' : record[ui_prod]['name'], 'Amount' : amt}}\n",
    "js = json.dumps(sales)"
   ]
  },
  {
   "cell_type": "code",
   "execution_count": null,
   "id": "2bd91474",
   "metadata": {},
   "outputs": [],
   "source": [
    "fd = open(\"sales.json\",'w')\n",
    "fd.write(js)\n",
    "fd.close()"
   ]
  },
  {
   "cell_type": "markdown",
   "id": "395b9b73",
   "metadata": {},
   "source": [
    "#### Open sales json file."
   ]
  },
  {
   "cell_type": "code",
   "execution_count": 16,
   "id": "2254837c",
   "metadata": {},
   "outputs": [],
   "source": [
    "fd = open(\"sales.json\",'r')\n",
    "re = fd.read()\n",
    "fd.close()"
   ]
  },
  {
   "cell_type": "code",
   "execution_count": 17,
   "id": "222e9ba3",
   "metadata": {},
   "outputs": [],
   "source": [
    "sale = json.loads(re)"
   ]
  },
  {
   "cell_type": "markdown",
   "id": "a6ee5c26",
   "metadata": {},
   "source": [
    "#### Adding sales amount after each transaction"
   ]
  },
  {
   "cell_type": "code",
   "execution_count": 18,
   "id": "ed58413e",
   "metadata": {},
   "outputs": [],
   "source": [
    "if ui_prod not in sale.keys():\n",
    "    sale[ui_prod] = {'Product Name' : record[ui_prod]['name'], 'Amount' : amt}\n",
    "else:\n",
    "    sale[ui_prod]['Amount'] += amt\n",
    "    \n",
    "js = json.dumps(sale)\n",
    "\n",
    "fd = open(\"sales.json\",'w')\n",
    "fd.write(js)\n",
    "fd.close()"
   ]
  }
 ],
 "metadata": {
  "kernelspec": {
   "display_name": "Python 3 (ipykernel)",
   "language": "python",
   "name": "python3"
  },
  "language_info": {
   "codemirror_mode": {
    "name": "ipython",
    "version": 3
   },
   "file_extension": ".py",
   "mimetype": "text/x-python",
   "name": "python",
   "nbconvert_exporter": "python",
   "pygments_lexer": "ipython3",
   "version": "3.9.6"
  }
 },
 "nbformat": 4,
 "nbformat_minor": 5
}
